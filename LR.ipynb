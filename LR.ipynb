{
  "nbformat": 4,
  "nbformat_minor": 0,
  "metadata": {
    "colab": {
      "name": "LR.ipynb",
      "provenance": [],
      "authorship_tag": "ABX9TyMI0QewcwYZqAA4lIfWta45",
      "include_colab_link": true
    },
    "kernelspec": {
      "name": "python3",
      "display_name": "Python 3"
    }
  },
  "cells": [
    {
      "cell_type": "markdown",
      "metadata": {
        "id": "view-in-github",
        "colab_type": "text"
      },
      "source": [
        "<a href=\"https://colab.research.google.com/github/Sonypriyasonu/AI/blob/master/LR.ipynb\" target=\"_parent\"><img src=\"https://colab.research.google.com/assets/colab-badge.svg\" alt=\"Open In Colab\"/></a>"
      ]
    },
    {
      "cell_type": "code",
      "metadata": {
        "id": "CXJWIGRSVhwu",
        "colab_type": "code",
        "colab": {}
      },
      "source": [
        "import os\n",
        "import pandas as pd\n",
        "import numpy as np\n",
        "import matplotlib.pyplot as plt\n",
        "import statsmodels.api as sm\n",
        "from sklearn.linear_model import LinearRegression\n",
        "from sklearn.model_selection import train_test_split\n",
        "from sklearn.metrics import mean_squared_error\n",
        "\n"
      ],
      "execution_count": 0,
      "outputs": []
    },
    {
      "cell_type": "markdown",
      "metadata": {
        "id": "c3K27Ot7iqPl",
        "colab_type": "text"
      },
      "source": [
        "# Reading data"
      ]
    },
    {
      "cell_type": "code",
      "metadata": {
        "id": "qZywnCVbijMa",
        "colab_type": "code",
        "colab": {
          "base_uri": "https://localhost:8080/",
          "height": 255
        },
        "outputId": "b67ddc58-4910-4786-b8d6-3c6deb1415f1"
      },
      "source": [
        "data=pd.read_csv(\"/content/GPA Vs SAT.csv\")\n",
        "print(data)"
      ],
      "execution_count": 3,
      "outputs": [
        {
          "output_type": "stream",
          "text": [
            "     SAT   GPA\n",
            "0   1714  2.40\n",
            "1   1664  2.52\n",
            "2   1760  2.54\n",
            "3   1685  2.74\n",
            "4   1693  2.83\n",
            "..   ...   ...\n",
            "79  1936  3.71\n",
            "80  1810  3.71\n",
            "81  1987  3.73\n",
            "82  1962  3.76\n",
            "83  2050  3.81\n",
            "\n",
            "[84 rows x 2 columns]\n"
          ],
          "name": "stdout"
        }
      ]
    },
    {
      "cell_type": "markdown",
      "metadata": {
        "id": "UFKF24P6ncAP",
        "colab_type": "text"
      },
      "source": [
        "# Scatter plot"
      ]
    },
    {
      "cell_type": "code",
      "metadata": {
        "id": "ItxL_xhIi4eT",
        "colab_type": "code",
        "colab": {
          "base_uri": "https://localhost:8080/",
          "height": 265
        },
        "outputId": "10b02747-f6fa-4091-f6b9-fb3198b91501"
      },
      "source": [
        "plt.scatter(data['SAT'],data[\"GPA\"],color=\"black\",marker=\"X\")\n",
        "plt.show()"
      ],
      "execution_count": 32,
      "outputs": [
        {
          "output_type": "display_data",
          "data": {
            "image/png": "[encoded data removed]",
            "text/plain": [
              "<Figure size 432x288 with 1 Axes>"
            ]
          },
          "metadata": {
            "tags": []
          }
        }
      ]
    },
    {
      "cell_type": "code",
      "metadata": {
        "id": "4Gq3YO8Fm19x",
        "colab_type": "code",
        "colab": {
          "base_uri": "https://localhost:8080/",
          "height": 111
        },
        "outputId": "bf55a386-cf1f-4b8c-da39-60385f205baf"
      },
      "source": [
        "data.corr()"
      ],
      "execution_count": 21,
      "outputs": [
        {
          "output_type": "execute_result",
          "data": {
            "text/html": [
              "<div>\n",
              "<style scoped>\n",
              "    .dataframe tbody tr th:only-of-type {\n",
              "        vertical-align: middle;\n",
              "    }\n",
              "\n",
              "    .dataframe tbody tr th {\n",
              "        vertical-align: top;\n",
              "    }\n",
              "\n",
              "    .dataframe thead th {\n",
              "        text-align: right;\n",
              "    }\n",
              "</style>\n",
              "<table border=\"1\" class=\"dataframe\">\n",
              "  <thead>\n",
              "    <tr style=\"text-align: right;\">\n",
              "      <th></th>\n",
              "      <th>SAT</th>\n",
              "      <th>GPA</th>\n",
              "    </tr>\n",
              "  </thead>\n",
              "  <tbody>\n",
              "    <tr>\n",
              "      <th>SAT</th>\n",
              "      <td>1.000000</td>\n",
              "      <td>0.637184</td>\n",
              "    </tr>\n",
              "    <tr>\n",
              "      <th>GPA</th>\n",
              "      <td>0.637184</td>\n",
              "      <td>1.000000</td>\n",
              "    </tr>\n",
              "  </tbody>\n",
              "</table>\n",
              "</div>"
            ],
            "text/plain": [
              "          SAT       GPA\n",
              "SAT  1.000000  0.637184\n",
              "GPA  0.637184  1.000000"
            ]
          },
          "metadata": {
            "tags": []
          },
          "execution_count": 21
        }
      ]
    },
    {
      "cell_type": "markdown",
      "metadata": {
        "id": "4xmvJodlo2fs",
        "colab_type": "text"
      },
      "source": [
        "# Train-Test split\n",
        "\n",
        "\n"
      ]
    },
    {
      "cell_type": "code",
      "metadata": {
        "id": "qEp0FTGhnQz0",
        "colab_type": "code",
        "colab": {}
      },
      "source": [
        "X_train,X_test,y_train,y_test=train_test_split(np.asarray(data['SAT']),np.asarray(data['GPA']),test_size=0.2,random_state=123)"
      ],
      "execution_count": 0,
      "outputs": []
    },
    {
      "cell_type": "code",
      "metadata": {
        "id": "CxsEdqa7rkmd",
        "colab_type": "code",
        "colab": {
          "base_uri": "https://localhost:8080/",
          "height": 238
        },
        "outputId": "1608e0d5-5289-45a9-89cb-f5c87e5aff4f"
      },
      "source": [
        "print(data.shape)\n",
        "print(\"\\n\")\n",
        "print(X_train.shape)\n",
        "print(\"\\n\")\n",
        "print(X_test.shape)\n",
        "print(\"\\n\")\n",
        "print(y_train.shape)\n",
        "print(\"\\n\")\n",
        "print(y_test.shape)"
      ],
      "execution_count": 34,
      "outputs": [
        {
          "output_type": "stream",
          "text": [
            "(84, 2)\n",
            "\n",
            "\n",
            "(67,)\n",
            "\n",
            "\n",
            "(17,)\n",
            "\n",
            "\n",
            "(67,)\n",
            "\n",
            "\n",
            "(17,)\n"
          ],
          "name": "stdout"
        }
      ]
    },
    {
      "cell_type": "code",
      "metadata": {
        "id": "byWmGxhUs9R8",
        "colab_type": "code",
        "colab": {}
      },
      "source": [
        "X_train=X_train.reshape(-1,1)\n",
        "y_train=y_train.reshape(-1,1)\n",
        "\n",
        "X_test=X_test.reshape(-1,1)\n",
        "y_test=y_test.reshape(-1,1)\n"
      ],
      "execution_count": 0,
      "outputs": []
    },
    {
      "cell_type": "code",
      "metadata": {
        "id": "NgUm9yGptak0",
        "colab_type": "code",
        "colab": {
          "base_uri": "https://localhost:8080/",
          "height": 238
        },
        "outputId": "142ca700-d243-4798-fc46-e7e4c1a45844"
      },
      "source": [
        "print(data.shape)\n",
        "print(\"\\n\")\n",
        "print(X_train.shape)\n",
        "print(\"\\n\")\n",
        "print(X_test.shape)\n",
        "print(\"\\n\")\n",
        "print(y_train.shape)\n",
        "print(\"\\n\")\n",
        "print(y_test.shape)"
      ],
      "execution_count": 40,
      "outputs": [
        {
          "output_type": "stream",
          "text": [
            "(84, 2)\n",
            "\n",
            "\n",
            "(67, 1)\n",
            "\n",
            "\n",
            "(17, 1)\n",
            "\n",
            "\n",
            "(67, 1)\n",
            "\n",
            "\n",
            "(17, 1)\n"
          ],
          "name": "stdout"
        }
      ]
    },
    {
      "cell_type": "code",
      "metadata": {
        "id": "rMjNguMWwL88",
        "colab_type": "code",
        "colab": {
          "base_uri": "https://localhost:8080/",
          "height": 34
        },
        "outputId": "811e319b-da49-4da3-de6e-30e7843a8c3a"
      },
      "source": [
        "lin_model=LinearRegression(normalize=True)\n",
        "lin_model.fit(X_train,y_train)"
      ],
      "execution_count": 42,
      "outputs": [
        {
          "output_type": "execute_result",
          "data": {
            "text/plain": [
              "LinearRegression(copy_X=True, fit_intercept=True, n_jobs=None, normalize=True)"
            ]
          },
          "metadata": {
            "tags": []
          },
          "execution_count": 42
        }
      ]
    },
    {
      "cell_type": "code",
      "metadata": {
        "id": "gOSIfpINwwk6",
        "colab_type": "code",
        "colab": {
          "base_uri": "https://localhost:8080/",
          "height": 34
        },
        "outputId": "4b45c39b-7cb3-4eb6-888d-a1172acd808c"
      },
      "source": [
        "lin_model.coef_"
      ],
      "execution_count": 44,
      "outputs": [
        {
          "output_type": "execute_result",
          "data": {
            "text/plain": [
              "array([[0.00175421]])"
            ]
          },
          "metadata": {
            "tags": []
          },
          "execution_count": 44
        }
      ]
    },
    {
      "cell_type": "code",
      "metadata": {
        "id": "7uMgjXm3w6VN",
        "colab_type": "code",
        "colab": {
          "base_uri": "https://localhost:8080/",
          "height": 34
        },
        "outputId": "95beaecb-14fa-4c55-c833-6c5a8986940d"
      },
      "source": [
        "lin_model.intercept_"
      ],
      "execution_count": 45,
      "outputs": [
        {
          "output_type": "execute_result",
          "data": {
            "text/plain": [
              "array([0.08665701])"
            ]
          },
          "metadata": {
            "tags": []
          },
          "execution_count": 45
        }
      ]
    },
    {
      "cell_type": "code",
      "metadata": {
        "id": "gIHbJkYmxdlQ",
        "colab_type": "code",
        "colab": {
          "base_uri": "https://localhost:8080/",
          "height": 306
        },
        "outputId": "46d3964a-90f8-4bcb-f2f3-cc147b9a4679"
      },
      "source": [
        "preds=lin_model.predict(X_test)\n",
        "preds"
      ],
      "execution_count": 48,
      "outputs": [
        {
          "output_type": "execute_result",
          "data": {
            "text/plain": [
              "array([[3.47754069],\n",
              "       [3.04600557],\n",
              "       [3.05653082],\n",
              "       [3.48280332],\n",
              "       [3.40737238],\n",
              "       [3.20563848],\n",
              "       [3.58980999],\n",
              "       [3.51437906],\n",
              "       [3.4792949 ],\n",
              "       [3.31966199],\n",
              "       [3.23019739],\n",
              "       [3.46350703],\n",
              "       [3.33194145],\n",
              "       [3.34071249],\n",
              "       [3.12143651],\n",
              "       [3.30036571],\n",
              "       [3.54946321]])"
            ]
          },
          "metadata": {
            "tags": []
          },
          "execution_count": 48
        }
      ]
    },
    {
      "cell_type": "code",
      "metadata": {
        "id": "_QWWODT-zNzM",
        "colab_type": "code",
        "colab": {
          "base_uri": "https://localhost:8080/",
          "height": 34
        },
        "outputId": "4b5bd08f-ef15-42bf-b95b-cc262963e1fd"
      },
      "source": [
        "preds.shape"
      ],
      "execution_count": 49,
      "outputs": [
        {
          "output_type": "execute_result",
          "data": {
            "text/plain": [
              "(17, 1)"
            ]
          },
          "metadata": {
            "tags": []
          },
          "execution_count": 49
        }
      ]
    },
    {
      "cell_type": "code",
      "metadata": {
        "id": "imPfOysQzZXa",
        "colab_type": "code",
        "colab": {}
      },
      "source": [
        "y_test=y_test.reshape(-1,)\n",
        "preds=preds.reshape(-1,)"
      ],
      "execution_count": 0,
      "outputs": []
    },
    {
      "cell_type": "code",
      "metadata": {
        "id": "FS9UM4iIztYG",
        "colab_type": "code",
        "colab": {
          "base_uri": "https://localhost:8080/",
          "height": 51
        },
        "outputId": "57de68e2-2461-4fe0-f1a8-172d0e5057e2"
      },
      "source": [
        "print(y_test.shape)\n",
        "print(preds.shape)"
      ],
      "execution_count": 51,
      "outputs": [
        {
          "output_type": "stream",
          "text": [
            "(17,)\n",
            "(17,)\n"
          ],
          "name": "stdout"
        }
      ]
    },
    {
      "cell_type": "code",
      "metadata": {
        "id": "BUPDJyQ9z5cD",
        "colab_type": "code",
        "colab": {
          "base_uri": "https://localhost:8080/",
          "height": 576
        },
        "outputId": "1261d21b-bde8-422b-91e9-8e42f55b1830"
      },
      "source": [
        "diff=pd.DataFrame({\"Actual\":y_test,'predicted':preds})\n",
        "diff"
      ],
      "execution_count": 52,
      "outputs": [
        {
          "output_type": "execute_result",
          "data": {
            "text/html": [
              "<div>\n",
              "<style scoped>\n",
              "    .dataframe tbody tr th:only-of-type {\n",
              "        vertical-align: middle;\n",
              "    }\n",
              "\n",
              "    .dataframe tbody tr th {\n",
              "        vertical-align: top;\n",
              "    }\n",
              "\n",
              "    .dataframe thead th {\n",
              "        text-align: right;\n",
              "    }\n",
              "</style>\n",
              "<table border=\"1\" class=\"dataframe\">\n",
              "  <thead>\n",
              "    <tr style=\"text-align: right;\">\n",
              "      <th></th>\n",
              "      <th>Actual</th>\n",
              "      <th>predicted</th>\n",
              "    </tr>\n",
              "  </thead>\n",
              "  <tbody>\n",
              "    <tr>\n",
              "      <th>0</th>\n",
              "      <td>3.59</td>\n",
              "      <td>3.477541</td>\n",
              "    </tr>\n",
              "    <tr>\n",
              "      <th>1</th>\n",
              "      <td>3.21</td>\n",
              "      <td>3.046006</td>\n",
              "    </tr>\n",
              "    <tr>\n",
              "      <th>2</th>\n",
              "      <td>2.83</td>\n",
              "      <td>3.056531</td>\n",
              "    </tr>\n",
              "    <tr>\n",
              "      <th>3</th>\n",
              "      <td>3.71</td>\n",
              "      <td>3.482803</td>\n",
              "    </tr>\n",
              "    <tr>\n",
              "      <th>4</th>\n",
              "      <td>3.50</td>\n",
              "      <td>3.407372</td>\n",
              "    </tr>\n",
              "    <tr>\n",
              "      <th>5</th>\n",
              "      <td>3.59</td>\n",
              "      <td>3.205638</td>\n",
              "    </tr>\n",
              "    <tr>\n",
              "      <th>6</th>\n",
              "      <td>3.64</td>\n",
              "      <td>3.589810</td>\n",
              "    </tr>\n",
              "    <tr>\n",
              "      <th>7</th>\n",
              "      <td>3.34</td>\n",
              "      <td>3.514379</td>\n",
              "    </tr>\n",
              "    <tr>\n",
              "      <th>8</th>\n",
              "      <td>3.28</td>\n",
              "      <td>3.479295</td>\n",
              "    </tr>\n",
              "    <tr>\n",
              "      <th>9</th>\n",
              "      <td>3.71</td>\n",
              "      <td>3.319662</td>\n",
              "    </tr>\n",
              "    <tr>\n",
              "      <th>10</th>\n",
              "      <td>3.01</td>\n",
              "      <td>3.230197</td>\n",
              "    </tr>\n",
              "    <tr>\n",
              "      <th>11</th>\n",
              "      <td>3.40</td>\n",
              "      <td>3.463507</td>\n",
              "    </tr>\n",
              "    <tr>\n",
              "      <th>12</th>\n",
              "      <td>3.01</td>\n",
              "      <td>3.331941</td>\n",
              "    </tr>\n",
              "    <tr>\n",
              "      <th>13</th>\n",
              "      <td>3.42</td>\n",
              "      <td>3.340712</td>\n",
              "    </tr>\n",
              "    <tr>\n",
              "      <th>14</th>\n",
              "      <td>3.47</td>\n",
              "      <td>3.121437</td>\n",
              "    </tr>\n",
              "    <tr>\n",
              "      <th>15</th>\n",
              "      <td>3.52</td>\n",
              "      <td>3.300366</td>\n",
              "    </tr>\n",
              "    <tr>\n",
              "      <th>16</th>\n",
              "      <td>3.24</td>\n",
              "      <td>3.549463</td>\n",
              "    </tr>\n",
              "  </tbody>\n",
              "</table>\n",
              "</div>"
            ],
            "text/plain": [
              "    Actual  predicted\n",
              "0     3.59   3.477541\n",
              "1     3.21   3.046006\n",
              "2     2.83   3.056531\n",
              "3     3.71   3.482803\n",
              "4     3.50   3.407372\n",
              "5     3.59   3.205638\n",
              "6     3.64   3.589810\n",
              "7     3.34   3.514379\n",
              "8     3.28   3.479295\n",
              "9     3.71   3.319662\n",
              "10    3.01   3.230197\n",
              "11    3.40   3.463507\n",
              "12    3.01   3.331941\n",
              "13    3.42   3.340712\n",
              "14    3.47   3.121437\n",
              "15    3.52   3.300366\n",
              "16    3.24   3.549463"
            ]
          },
          "metadata": {
            "tags": []
          },
          "execution_count": 52
        }
      ]
    },
    {
      "cell_type": "code",
      "metadata": {
        "id": "QgkMAi7O0kqE",
        "colab_type": "code",
        "colab": {
          "base_uri": "https://localhost:8080/",
          "height": 34
        },
        "outputId": "482427c8-5e5b-484a-a24b-45de1be6516e"
      },
      "source": [
        "mean_squared_error(diff['Actual'],diff['predicted'])"
      ],
      "execution_count": 53,
      "outputs": [
        {
          "output_type": "execute_result",
          "data": {
            "text/plain": [
              "0.055985577920230685"
            ]
          },
          "metadata": {
            "tags": []
          },
          "execution_count": 53
        }
      ]
    },
    {
      "cell_type": "code",
      "metadata": {
        "id": "w_ew2BTf111q",
        "colab_type": "code",
        "colab": {
          "base_uri": "https://localhost:8080/",
          "height": 34
        },
        "outputId": "f93d24a0-8329-4d08-d843-fe62b2118ba9"
      },
      "source": [
        "((diff['Actual']-diff['predicted'])**2).mean()"
      ],
      "execution_count": 54,
      "outputs": [
        {
          "output_type": "execute_result",
          "data": {
            "text/plain": [
              "0.05598557792023068"
            ]
          },
          "metadata": {
            "tags": []
          },
          "execution_count": 54
        }
      ]
    },
    {
      "cell_type": "code",
      "metadata": {
        "id": "GIz0PSNf2S8J",
        "colab_type": "code",
        "colab": {}
      },
      "source": [
        "X_std=(X_train-X_train.mean())/X_train.std()\n",
        "X_test_std=(X_test-X_train.mean())/X_train.std()"
      ],
      "execution_count": 0,
      "outputs": []
    },
    {
      "cell_type": "code",
      "metadata": {
        "id": "7uViDXy56GrE",
        "colab_type": "code",
        "colab": {
          "base_uri": "https://localhost:8080/",
          "height": 1000
        },
        "outputId": "e7b65115-16be-4456-cea6-14159709b9d3"
      },
      "source": [
        "X_std=sm.add_constant(X_std)\n",
        "X_std"
      ],
      "execution_count": 60,
      "outputs": [
        {
          "output_type": "execute_result",
          "data": {
            "text/plain": [
              "array([[ 1.        , -0.52582694],\n",
              "       [ 1.        , -0.37490686],\n",
              "       [ 1.        ,  1.13429388],\n",
              "       [ 1.        , -0.4503669 ],\n",
              "       [ 1.        ,  0.84188623],\n",
              "       [ 1.        ,  1.68137915],\n",
              "       [ 1.        , -0.57298946],\n",
              "       [ 1.        , -1.6765925 ],\n",
              "       [ 1.        ,  1.69081165],\n",
              "       [ 1.        ,  1.87946174],\n",
              "       [ 1.        ,  1.39840401],\n",
              "       [ 1.        ,  0.48345106],\n",
              "       [ 1.        , -0.76163955],\n",
              "       [ 1.        , -0.6484495 ],\n",
              "       [ 1.        , -1.31815733],\n",
              "       [ 1.        , -0.81823458],\n",
              "       [ 1.        , -0.51639443],\n",
              "       [ 1.        , -0.73334204],\n",
              "       [ 1.        ,  1.25691644],\n",
              "       [ 1.        , -1.95956764],\n",
              "       [ 1.        ,  0.28536846],\n",
              "       [ 1.        ,  1.63421662],\n",
              "       [ 1.        ,  0.00239332],\n",
              "       [ 1.        , -1.22383228],\n",
              "       [ 1.        , -1.68602501],\n",
              "       [ 1.        , -1.00688467],\n",
              "       [ 1.        ,  0.46458605],\n",
              "       [ 1.        , -0.62958449],\n",
              "       [ 1.        , -1.20496727],\n",
              "       [ 1.        , -1.61999747],\n",
              "       [ 1.        ,  1.1720239 ],\n",
              "       [ 1.        , -1.4785099 ],\n",
              "       [ 1.        ,  0.21934093],\n",
              "       [ 1.        , -1.00688467],\n",
              "       [ 1.        ,  1.37010649],\n",
              "       [ 1.        ,  0.3608285 ],\n",
              "       [ 1.        , -0.19568928],\n",
              "       [ 1.        , -0.68617952],\n",
              "       [ 1.        ,  0.35139599],\n",
              "       [ 1.        , -1.12950723],\n",
              "       [ 1.        ,  0.12501588],\n",
              "       [ 1.        , -0.61071948],\n",
              "       [ 1.        ,  0.61550612],\n",
              "       [ 1.        ,  1.68137915],\n",
              "       [ 1.        ,  1.15315889],\n",
              "       [ 1.        ,  0.06842085],\n",
              "       [ 1.        ,  0.07785336],\n",
              "       [ 1.        , -0.73334204],\n",
              "       [ 1.        ,  0.14388089],\n",
              "       [ 1.        , -0.31831184],\n",
              "       [ 1.        , -0.29944683],\n",
              "       [ 1.        ,  1.96435429],\n",
              "       [ 1.        , -0.10136423],\n",
              "       [ 1.        , -0.77107206],\n",
              "       [ 1.        ,  0.87018375],\n",
              "       [ 1.        ,  0.42685603],\n",
              "       [ 1.        ,  1.29464646],\n",
              "       [ 1.        ,  0.18161091],\n",
              "       [ 1.        , -0.31831184],\n",
              "       [ 1.        , -0.14852675],\n",
              "       [ 1.        , -0.16739176],\n",
              "       [ 1.        , -0.62958449],\n",
              "       [ 1.        ,  0.87018375],\n",
              "       [ 1.        ,  1.07769885],\n",
              "       [ 1.        ,  1.04940134],\n",
              "       [ 1.        , -1.58226746],\n",
              "       [ 1.        ,  0.07785336]])"
            ]
          },
          "metadata": {
            "tags": []
          },
          "execution_count": 60
        }
      ]
    },
    {
      "cell_type": "code",
      "metadata": {
        "id": "87E67qYB7FJ_",
        "colab_type": "code",
        "colab": {
          "base_uri": "https://localhost:8080/",
          "height": 444
        },
        "outputId": "cc6bbdc8-d6d6-4e66-bb56-658e5252c18e"
      },
      "source": [
        "model_sm=sm.OLS(y_train,X_std).fit()\n",
        "model_sm.summary()\n"
      ],
      "execution_count": 64,
      "outputs": [
        {
          "output_type": "execute_result",
          "data": {
            "text/html": [
              "<table class=\"simpletable\">\n",
              "<caption>OLS Regression Results</caption>\n",
              "<tr>\n",
              "  <th>Dep. Variable:</th>            <td>y</td>        <th>  R-squared:         </th> <td>   0.462</td>\n",
              "</tr>\n",
              "<tr>\n",
              "  <th>Model:</th>                   <td>OLS</td>       <th>  Adj. R-squared:    </th> <td>   0.454</td>\n",
              "</tr>\n",
              "<tr>\n",
              "  <th>Method:</th>             <td>Least Squares</td>  <th>  F-statistic:       </th> <td>   55.83</td>\n",
              "</tr>\n",
              "<tr>\n",
              "  <th>Date:</th>             <td>Mon, 24 Feb 2020</td> <th>  Prob (F-statistic):</th> <td>2.53e-10</td>\n",
              "</tr>\n",
              "<tr>\n",
              "  <th>Time:</th>                 <td>11:22:05</td>     <th>  Log-Likelihood:    </th> <td>  12.540</td>\n",
              "</tr>\n",
              "<tr>\n",
              "  <th>No. Observations:</th>      <td>    67</td>      <th>  AIC:               </th> <td>  -21.08</td>\n",
              "</tr>\n",
              "<tr>\n",
              "  <th>Df Residuals:</th>          <td>    65</td>      <th>  BIC:               </th> <td>  -16.67</td>\n",
              "</tr>\n",
              "<tr>\n",
              "  <th>Df Model:</th>              <td>     1</td>      <th>                     </th>     <td> </td>   \n",
              "</tr>\n",
              "<tr>\n",
              "  <th>Covariance Type:</th>      <td>nonrobust</td>    <th>                     </th>     <td> </td>   \n",
              "</tr>\n",
              "</table>\n",
              "<table class=\"simpletable\">\n",
              "<tr>\n",
              "    <td></td>       <th>coef</th>     <th>std err</th>      <th>t</th>      <th>P>|t|</th>  <th>[0.025</th>    <th>0.975]</th>  \n",
              "</tr>\n",
              "<tr>\n",
              "  <th>const</th> <td>    3.3175</td> <td>    0.025</td> <td>  133.285</td> <td> 0.000</td> <td>    3.268</td> <td>    3.367</td>\n",
              "</tr>\n",
              "<tr>\n",
              "  <th>x1</th>    <td>    0.1860</td> <td>    0.025</td> <td>    7.472</td> <td> 0.000</td> <td>    0.136</td> <td>    0.236</td>\n",
              "</tr>\n",
              "</table>\n",
              "<table class=\"simpletable\">\n",
              "<tr>\n",
              "  <th>Omnibus:</th>       <td>17.145</td> <th>  Durbin-Watson:     </th> <td>   1.911</td>\n",
              "</tr>\n",
              "<tr>\n",
              "  <th>Prob(Omnibus):</th> <td> 0.000</td> <th>  Jarque-Bera (JB):  </th> <td>  27.026</td>\n",
              "</tr>\n",
              "<tr>\n",
              "  <th>Skew:</th>          <td>-0.927</td> <th>  Prob(JB):          </th> <td>1.35e-06</td>\n",
              "</tr>\n",
              "<tr>\n",
              "  <th>Kurtosis:</th>      <td> 5.499</td> <th>  Cond. No.          </th> <td>    1.00</td>\n",
              "</tr>\n",
              "</table><br/><br/>Warnings:<br/>[1] Standard Errors assume that the covariance matrix of the errors is correctly specified."
            ],
            "text/plain": [
              "<class 'statsmodels.iolib.summary.Summary'>\n",
              "\"\"\"\n",
              "                            OLS Regression Results                            \n",
              "==============================================================================\n",
              "Dep. Variable:                      y   R-squared:                       0.462\n",
              "Model:                            OLS   Adj. R-squared:                  0.454\n",
              "Method:                 Least Squares   F-statistic:                     55.83\n",
              "Date:                Mon, 24 Feb 2020   Prob (F-statistic):           2.53e-10\n",
              "Time:                        11:22:05   Log-Likelihood:                 12.540\n",
              "No. Observations:                  67   AIC:                            -21.08\n",
              "Df Residuals:                      65   BIC:                            -16.67\n",
              "Df Model:                           1                                         \n",
              "Covariance Type:            nonrobust                                         \n",
              "==============================================================================\n",
              "                 coef    std err          t      P>|t|      [0.025      0.975]\n",
              "------------------------------------------------------------------------------\n",
              "const          3.3175      0.025    133.285      0.000       3.268       3.367\n",
              "x1             0.1860      0.025      7.472      0.000       0.136       0.236\n",
              "==============================================================================\n",
              "Omnibus:                       17.145   Durbin-Watson:                   1.911\n",
              "Prob(Omnibus):                  0.000   Jarque-Bera (JB):               27.026\n",
              "Skew:                          -0.927   Prob(JB):                     1.35e-06\n",
              "Kurtosis:                       5.499   Cond. No.                         1.00\n",
              "==============================================================================\n",
              "\n",
              "Warnings:\n",
              "[1] Standard Errors assume that the covariance matrix of the errors is correctly specified.\n",
              "\"\"\""
            ]
          },
          "metadata": {
            "tags": []
          },
          "execution_count": 64
        }
      ]
    }
  ]
}