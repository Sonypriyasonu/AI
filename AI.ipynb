{
  "nbformat": 4,
  "nbformat_minor": 0,
  "metadata": {
    "colab": {
      "name": "AI.ipynb",
      "provenance": [],
      "toc_visible": true,
      "authorship_tag": "ABX9TyMP7zP9sYErqkCRMcA/Skbd",
      "include_colab_link": true
    },
    "kernelspec": {
      "name": "python3",
      "display_name": "Python 3"
    }
  },
  "cells": [
    {
      "cell_type": "markdown",
      "metadata": {
        "id": "view-in-github",
        "colab_type": "text"
      },
      "source": [
        "<a href=\"https://colab.research.google.com/github/Sonypriyasonu/AI/blob/master/AI.ipynb\" target=\"_parent\"><img src=\"https://colab.research.google.com/assets/colab-badge.svg\" alt=\"Open In Colab\"/></a>"
      ]
    },
    {
      "cell_type": "code",
      "metadata": {
        "id": "UHsRAs7uIOx9",
        "colab_type": "code",
        "colab": {
          "base_uri": "https://localhost:8080/",
          "height": 255
        },
        "outputId": "34c9f5db-4e64-47e7-ca5b-bc72e97d2f29"
      },
      "source": [
        "import pandas as pd\n",
        "df=pd.read_csv('/telescope_data.csv')\n",
        "print(df)"
      ],
      "execution_count": 2,
      "outputs": [
        {
          "output_type": "stream",
          "text": [
            "       Unnamed: 0   fLength    fWidth  ...   fAlpha     fDist  class\n",
            "0               0   28.7967   16.0021  ...  40.0920   81.8828      g\n",
            "1               1   31.6036   11.7235  ...   6.3609  205.2610      g\n",
            "2               2  162.0520  136.0310  ...  76.9600  256.7880      g\n",
            "3               3   23.8172    9.5728  ...  10.4490  116.7370      g\n",
            "4               4   75.1362   30.9205  ...   4.6480  356.4620      g\n",
            "...           ...       ...       ...  ...      ...       ...    ...\n",
            "19015       19015   21.3846   10.9170  ...   2.4229  106.8258      h\n",
            "19016       19016   28.9452    6.7020  ...  86.7975  247.4560      h\n",
            "19017       19017   75.4455   47.5305  ...  30.2987  256.5166      h\n",
            "19018       19018  120.5135   76.9018  ...  84.6874  408.3166      h\n",
            "19019       19019  187.1814   53.0014  ...  52.7310  272.3174      h\n",
            "\n",
            "[19020 rows x 12 columns]\n"
          ],
          "name": "stdout"
        }
      ]
    }
  ]
}